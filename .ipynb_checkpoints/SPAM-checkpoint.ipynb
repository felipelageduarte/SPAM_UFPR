{
 "cells": [
  {
   "cell_type": "markdown",
   "metadata": {},
   "source": [
    "<img src=\"./img/logo.png\" alt=\"Drawing\" style=\"width: 700px;\"/>\n",
    "<br>\n",
    "<h1 style='text-align: center;'> Construção de um classificador para deteção de SPAm em e-mails</h1>\n",
    "<br>\n",
    "<p style='text-align: center;'>Aula ministrada na semana da Matemática - UFPR (04/04/2018)</p>"
   ]
  },
  {
   "cell_type": "markdown",
   "metadata": {},
   "source": [
    "<hr>"
   ]
  },
  {
   "cell_type": "markdown",
   "metadata": {},
   "source": [
    "Carregando bibliotecas necessárias"
   ]
  },
  {
   "cell_type": "code",
   "execution_count": 1,
   "metadata": {
    "collapsed": false
   },
   "outputs": [
    {
     "name": "stderr",
     "output_type": "stream",
     "text": [
      "Loading required package: NLP\n",
      "Loading required package: ParamHelpers\n"
     ]
    }
   ],
   "source": [
    "library(tm) # Biblioteca de Mineracao de texto (Text Mining)\n",
    "library(SnowballC) # Snowball stemmers baseado na biblioteca C libstemmer UTF-8\n",
    "library(parallel) # Biblioteca utilizada para computação paralela\n",
    "library(mlr) # Biblioteca de Machine Learning\n",
    "library(tictoc) # Bibliotea para calculo do tempo de execução"
   ]
  },
  {
   "cell_type": "markdown",
   "metadata": {},
   "source": [
    "Definição de variáveis de configuração"
   ]
  },
  {
   "cell_type": "code",
   "execution_count": 2,
   "metadata": {
    "collapsed": true
   },
   "outputs": [],
   "source": [
    "data.folder   = \"./data\"\n",
    "target.file   = \"./SPAMTrain.label\"\n",
    "classificador = \"classif.naiveBayes\""
   ]
  },
  {
   "cell_type": "markdown",
   "metadata": {},
   "source": [
    "<h1>1. Text Mining</h1><br>\n",
    "\n",
    "Carrega para a memória do computador todos os e-mails presentes na pasta configurada acima (data.folder) criando assim um corpus (coleção de documentos)."
   ]
  },
  {
   "cell_type": "code",
   "execution_count": 3,
   "metadata": {
    "collapsed": false
   },
   "outputs": [
    {
     "name": "stdout",
     "output_type": "stream",
     "text": [
      "carregando corpus: 4.645 sec elapsed\n"
     ]
    }
   ],
   "source": [
    "tic('carregando corpus')\n",
    "corpus = tm::SimpleCorpus(DirSource(data.folder))\n",
    "toc()"
   ]
  },
  {
   "cell_type": "markdown",
   "metadata": {},
   "source": [
    "Este corpus por sua vez precisa ser pré-processado com o intuito de tirar algumas irregularidades nos e-mails e facilitar o processo de aprendizagem de máquina. Fizemos os seguintes pré-processamentos:\n",
    "* Remoção de todos os espaços em branco desnecessários, ou seja, deixa apenas um espaço separando as palavras do email.\n",
    "* Remove todas as pontuações do documento como.\n",
    "* Substitui todas as letras maiusculas por minusculas.\n",
    "* Remove artigos, preposições e palavras que não agregam ao contexto do problema (Stopwords)\n",
    "* Reduz todos os verbos para seu radical, por exemplo, \"comprei, comprando e comprarei\" seriam todos substituidos por comprar\n",
    "\n",
    "Um exemplo de como todo este processamento funciona pode ser visto na tabela abaixo:\n",
    "\n",
    "<img src=\"./img/img_001.png\" alt=\"Drawing\" style=\"width: 700px;\"/>"
   ]
  },
  {
   "cell_type": "code",
   "execution_count": 4,
   "metadata": {
    "collapsed": false
   },
   "outputs": [
    {
     "name": "stdout",
     "output_type": "stream",
     "text": [
      "pre-processamento: 9.171 sec elapsed\n"
     ]
    }
   ],
   "source": [
    "tic('pre-processamento')\n",
    "corpus = tm::tm_map(corpus, tm::content_transformer(tolower))\n",
    "corpus = tm::tm_map(corpus, tm::removePunctuation)\n",
    "corpus = tm::tm_map(corpus, tm::removeNumbers)\n",
    "corpus = tm::tm_map(corpus, tm::stripWhitespace)\n",
    "corpus = tm::tm_map(corpus, tm::removeWords, c(\"the\", \"and\", tm::stopwords(\"english\")))\n",
    "corpus = tm::tm_map(corpus, tm::stemDocument)\n",
    "toc()"
   ]
  },
  {
   "cell_type": "markdown",
   "metadata": {},
   "source": [
    "No modelo vetorial (Salton et al., 1975), também chamado representação bag-of-words, cada documento é descrito como um vetor de frequências dos termos que nele ocorrem, desconsiderando a gramática e a ordem entre os termos. Para um conjunto de $N$ documentos $D = \\{d_1, d_2, \\ldots , d_N\\}$ que inclui $M$ termos $T = \\{t_1, t_2, \\ldots , t_M\\}$. Cada documento $d_i$ é um vetor $\\vec{v}(d_i) = \\{freq_{i1}, freq_{i2}, \\ldots , freq_{iM}\\}$, no qual o valor $freq_{ij}$ é alguma medida que determina a influência do termo $t_j$ no documento $d_i$.\n",
    "\n",
    "O valor $freq_{ij}$ pode ser calculado de várias maneiras. A seguir encontram-se algumas das mais utilizadas:\n",
    "\n",
    "* <b>boolean:</b> A medida booleana indica que o termo $t_i$ ocorre no documento $d_j$ quando o valor de $freq_{ij} = 1$, caso contrário $freq_{ij} = 0$.\n",
    "* <b>terms frequency (tf):</b> A medida terms frequency (tf) conta o número de ocorrências do termo $t_j$ no documento $d_i$:\n",
    "\\begin{align}\n",
    "freq_{ij} = tf(t_j, d_i) = freq(t_j, d_i)\n",
    "\\end{align}\n",
    "* <b>terms frequency inverse document frequency(tf-idf):</b> Um termo muito frequente na coleção pode ocorrer em muitos documentos, oferecendo pouco poder de discriminação entre os documentos da coleção. Assim, um fator de ponderação chamado inverse document frequency (idf), definido pela Equação abaixo, pode ser utilizado para, ao estimar a frequência, favorecer termos que aparecem em poucos documentos:\n",
    "\\begin{align}\n",
    "idf(t_i) = \\log \\frac{N}{d(t_j)}\n",
    "\\end{align}\n",
    "onde $N$ é o número de documentos da coleção e $d(t_j)$ é o número de documentos na coleção nos quais o termo $t_j$ ocorre. O valor do fator $idf$ de um termo raro, que oferece maior poder de discriminação, é alto, enquanto para um termo frequente o fator $idf$ tende a ser um valor baixo. Assim, o fator de ponderação $idf$ pode ser combinado com a medida $tf$ em uma nova medida chamada term frequency inverse document frequency (tf-idf), calculada pela Equação:\n",
    "\\begin{align}\n",
    "tf-idf(t_j,d_i) = tf(t_j,d_i)\\times idf(t_j) = freq(t_j, d_i)\\times\\log\\frac{N}{d(t_j}\n",
    "\\end{align}"
   ]
  },
  {
   "cell_type": "code",
   "execution_count": 5,
   "metadata": {
    "collapsed": false
   },
   "outputs": [
    {
     "name": "stdout",
     "output_type": "stream",
     "text": [
      "criacao TF-IDF: 0.938 sec elapsed\n"
     ]
    }
   ],
   "source": [
    "tic('criacao TF-IDF')\n",
    "tfidf = DocumentTermMatrix(corpus, control = list(weighting = weightTfIdf))\n",
    "toc()"
   ]
  },
  {
   "cell_type": "markdown",
   "metadata": {},
   "source": [
    "A matriz da representação vetorial pode apresentar uma alta dimensionalidade para coleções de documentos maiores, pois o vetor que representa cada documento contém, a princípio, todos os termos utilizados em toda a coleção. Matrizes com alta-dimensionalidade também tendem a ser mais esparsas, pois a frequência de muitos termos será possivelmente nula. Além disso, a alta dimensionalidade aumenta o custo do processamento. Dessa forma, é necessário que técnicas de pré-processamento (como as apresentadas anteriormente) sejam utilizadas previamente a geração do modelo vetorial bem como remoção e termos com grande esparsidade, pois assim somente os termos mais informativos do vocabulário serão retidos. Essa prática melhora a qualidade da representação vetorial e também reduz sua dimensionalidade."
   ]
  },
  {
   "cell_type": "code",
   "execution_count": 6,
   "metadata": {
    "collapsed": false
   },
   "outputs": [
    {
     "data": {
      "text/html": [
       "<table>\n",
       "<thead><tr><th></th><th scope=col>abl</th><th scope=col>absolut</th><th scope=col>action</th><th scope=col>ago</th><th scope=col>alon</th><th scope=col>also</th><th scope=col>anyth</th><th scope=col>assist</th><th scope=col>back</th><th scope=col>battl</th><th scope=col>⋯</th><th scope=col>rank</th><th scope=col>shall</th><th scope=col>woman</th><th scope=col>tom</th><th scope=col>somebodi</th><th scope=col>declar</th><th scope=col>jim</th><th scope=col>spammer</th><th scope=col>ground</th><th scope=col>qualifi</th></tr></thead>\n",
       "<tbody>\n",
       "\t<tr><th scope=row>1</th><td>0.02360003 </td><td>0.01575454 </td><td>0.01502203 </td><td>0.01351869 </td><td>0.01780602 </td><td>0.006628367</td><td>0.01183063 </td><td>0.01579271 </td><td>0.009272161</td><td>0.01959328 </td><td>⋯          </td><td>0          </td><td>0          </td><td>0          </td><td>0          </td><td>0          </td><td>0          </td><td>0          </td><td>0          </td><td>0          </td><td>0          </td></tr>\n",
       "\t<tr><th scope=row>2</th><td>0.00000000 </td><td>0.00000000 </td><td>0.00000000 </td><td>0.00000000 </td><td>0.00000000 </td><td>0.000000000</td><td>0.00000000 </td><td>0.00000000 </td><td>0.000000000</td><td>0.00000000 </td><td>⋯          </td><td>0          </td><td>0          </td><td>0          </td><td>0          </td><td>0          </td><td>0          </td><td>0          </td><td>0          </td><td>0          </td><td>0          </td></tr>\n",
       "\t<tr><th scope=row>3</th><td>0.00000000 </td><td>0.00000000 </td><td>0.00000000 </td><td>0.00000000 </td><td>0.00000000 </td><td>0.011261460</td><td>0.00000000 </td><td>0.00000000 </td><td>0.000000000</td><td>0.00000000 </td><td>⋯          </td><td>0          </td><td>0          </td><td>0          </td><td>0          </td><td>0          </td><td>0          </td><td>0          </td><td>0          </td><td>0          </td><td>0          </td></tr>\n",
       "\t<tr><th scope=row>4</th><td>0.00000000 </td><td>0.00000000 </td><td>0.00000000 </td><td>0.00000000 </td><td>0.00000000 </td><td>0.000000000</td><td>0.00000000 </td><td>0.00000000 </td><td>0.000000000</td><td>0.00000000 </td><td>⋯          </td><td>0          </td><td>0          </td><td>0          </td><td>0          </td><td>0          </td><td>0          </td><td>0          </td><td>0          </td><td>0          </td><td>0          </td></tr>\n",
       "\t<tr><th scope=row>5</th><td>0.00000000 </td><td>0.00000000 </td><td>0.00000000 </td><td>0.00000000 </td><td>0.00000000 </td><td>0.000000000</td><td>0.00000000 </td><td>0.00000000 </td><td>0.000000000</td><td>0.00000000 </td><td>⋯          </td><td>0          </td><td>0          </td><td>0          </td><td>0          </td><td>0          </td><td>0          </td><td>0          </td><td>0          </td><td>0          </td><td>0          </td></tr>\n",
       "\t<tr><th scope=row>6</th><td>0.00000000 </td><td>0.00000000 </td><td>0.00000000 </td><td>0.00000000 </td><td>0.00000000 </td><td>0.028298028</td><td>0.00000000 </td><td>0.00000000 </td><td>0.000000000</td><td>0.00000000 </td><td>⋯          </td><td>0          </td><td>0          </td><td>0          </td><td>0          </td><td>0          </td><td>0          </td><td>0          </td><td>0          </td><td>0          </td><td>0          </td></tr>\n",
       "</tbody>\n",
       "</table>\n"
      ],
      "text/latex": [
       "\\begin{tabular}{r|llllllllllllllllllllllllllllllllllllllllllllllllllllllllllllllllllllllllllllllllllllllllllllllllllllllllllllllllllllllllllllllllllllllllllllllllllllllllllllllllllllllllllllllllllllllllllllllllllllllllllllllllllllllllllllllllllllllllllllllllllllllllllllllllllllllllllllllllllllllllllllllllllllllllllllllllllllllllllllllllllllllllllllllllllllllllllllllllllllllllllllllllllllllllllllllllllllllllllllllllllllllllllllllllllllllllllllllllllllllllllllllllllllllllllllllllllllllllllllllllllllllllllllllllllllllllllllllllllllllllllllllllllllllllllllllllllllllllllllllllllllllllllllllllllllllllllllllllllllllllllllllllllllllllllllllllllllllllllllllllllllllllllllllllllllllllllllllllllllllllllllllllllllllllllllllllllllllllllllllllllllllllllllllllllllllllllllllllllllllllllllllllllllllllllllllllllllllllllllllllllllllllllllllllllllllllllllllllllllllllllllllllllllllllllllllllllllllllllllllllllllllllllllllllllllllllllllllllllllllllllllllllllllllllllllllllllllllllllllllllllllllllllllllllllllllllllllllllllllllllllllllllllllllllllllllllllllllllllllllllllllllllllllllllllllllllllllllllllllllllllllllllllllllllllllllllllllllllllllllllllllllllllllllllllllllllllllllllllllllllllllllllllllllllllllllllllllllllllllllllllllllllllllllllllllllllllllllllllllllllllllllllllllllllllllllllllllllllllllllllllllllllllllllllllllllllllllllllllllllllllllllllllllllllllllllllllllllllllllllllllllllllllllllllllllllllllllllllllllllllllllllllllllllllllllllllllllllllllllllllllllllllllllllllllllllllllllllllllllllllllllllllllllllllllllllllllllllllllllllllllllllllllllllllllllllllllllllllllllllllllllllllllllllllllllllllllllllllllllllllllllllllllllllllllllllllllllllllllllllllllllllllllllllllllllllllllllllllllllllllllllllllllllllllllllllllllllllllllllllllllllllllllllllllllllllllllllllllllllllllllllllllllllllllllllllllllllllllllllllllllllllllllllllllllllllllllllllllllllllllllllllllllllllllllllllllllllllllllllllllllllllllllllll}\n",
       "  & abl & absolut & action & ago & alon & also & anyth & assist & back & battl & ⋯ & rank & shall & woman & tom & somebodi & declar & jim & spammer & ground & qualifi\\\\\n",
       "\\hline\n",
       "\t1 & 0.02360003  & 0.01575454  & 0.01502203  & 0.01351869  & 0.01780602  & 0.006628367 & 0.01183063  & 0.01579271  & 0.009272161 & 0.01959328  & ⋯           & 0           & 0           & 0           & 0           & 0           & 0           & 0           & 0           & 0           & 0          \\\\\n",
       "\t2 & 0.00000000  & 0.00000000  & 0.00000000  & 0.00000000  & 0.00000000  & 0.000000000 & 0.00000000  & 0.00000000  & 0.000000000 & 0.00000000  & ⋯           & 0           & 0           & 0           & 0           & 0           & 0           & 0           & 0           & 0           & 0          \\\\\n",
       "\t3 & 0.00000000  & 0.00000000  & 0.00000000  & 0.00000000  & 0.00000000  & 0.011261460 & 0.00000000  & 0.00000000  & 0.000000000 & 0.00000000  & ⋯           & 0           & 0           & 0           & 0           & 0           & 0           & 0           & 0           & 0           & 0          \\\\\n",
       "\t4 & 0.00000000  & 0.00000000  & 0.00000000  & 0.00000000  & 0.00000000  & 0.000000000 & 0.00000000  & 0.00000000  & 0.000000000 & 0.00000000  & ⋯           & 0           & 0           & 0           & 0           & 0           & 0           & 0           & 0           & 0           & 0          \\\\\n",
       "\t5 & 0.00000000  & 0.00000000  & 0.00000000  & 0.00000000  & 0.00000000  & 0.000000000 & 0.00000000  & 0.00000000  & 0.000000000 & 0.00000000  & ⋯           & 0           & 0           & 0           & 0           & 0           & 0           & 0           & 0           & 0           & 0          \\\\\n",
       "\t6 & 0.00000000  & 0.00000000  & 0.00000000  & 0.00000000  & 0.00000000  & 0.028298028 & 0.00000000  & 0.00000000  & 0.000000000 & 0.00000000  & ⋯           & 0           & 0           & 0           & 0           & 0           & 0           & 0           & 0           & 0           & 0          \\\\\n",
       "\\end{tabular}\n"
      ],
      "text/markdown": [
       "\n",
       "| <!--/--> | abl | absolut | action | ago | alon | also | anyth | assist | back | battl | ⋯ | rank | shall | woman | tom | somebodi | declar | jim | spammer | ground | qualifi | \n",
       "|---|---|---|---|---|---|\n",
       "| 1 | 0.02360003  | 0.01575454  | 0.01502203  | 0.01351869  | 0.01780602  | 0.006628367 | 0.01183063  | 0.01579271  | 0.009272161 | 0.01959328  | ⋯           | 0           | 0           | 0           | 0           | 0           | 0           | 0           | 0           | 0           | 0           | \n",
       "| 2 | 0.00000000  | 0.00000000  | 0.00000000  | 0.00000000  | 0.00000000  | 0.000000000 | 0.00000000  | 0.00000000  | 0.000000000 | 0.00000000  | ⋯           | 0           | 0           | 0           | 0           | 0           | 0           | 0           | 0           | 0           | 0           | \n",
       "| 3 | 0.00000000  | 0.00000000  | 0.00000000  | 0.00000000  | 0.00000000  | 0.011261460 | 0.00000000  | 0.00000000  | 0.000000000 | 0.00000000  | ⋯           | 0           | 0           | 0           | 0           | 0           | 0           | 0           | 0           | 0           | 0           | \n",
       "| 4 | 0.00000000  | 0.00000000  | 0.00000000  | 0.00000000  | 0.00000000  | 0.000000000 | 0.00000000  | 0.00000000  | 0.000000000 | 0.00000000  | ⋯           | 0           | 0           | 0           | 0           | 0           | 0           | 0           | 0           | 0           | 0           | \n",
       "| 5 | 0.00000000  | 0.00000000  | 0.00000000  | 0.00000000  | 0.00000000  | 0.000000000 | 0.00000000  | 0.00000000  | 0.000000000 | 0.00000000  | ⋯           | 0           | 0           | 0           | 0           | 0           | 0           | 0           | 0           | 0           | 0           | \n",
       "| 6 | 0.00000000  | 0.00000000  | 0.00000000  | 0.00000000  | 0.00000000  | 0.028298028 | 0.00000000  | 0.00000000  | 0.000000000 | 0.00000000  | ⋯           | 0           | 0           | 0           | 0           | 0           | 0           | 0           | 0           | 0           | 0           | \n",
       "\n",
       "\n"
      ],
      "text/plain": [
       "  abl        absolut    action     ago        alon       also        anyth     \n",
       "1 0.02360003 0.01575454 0.01502203 0.01351869 0.01780602 0.006628367 0.01183063\n",
       "2 0.00000000 0.00000000 0.00000000 0.00000000 0.00000000 0.000000000 0.00000000\n",
       "3 0.00000000 0.00000000 0.00000000 0.00000000 0.00000000 0.011261460 0.00000000\n",
       "4 0.00000000 0.00000000 0.00000000 0.00000000 0.00000000 0.000000000 0.00000000\n",
       "5 0.00000000 0.00000000 0.00000000 0.00000000 0.00000000 0.000000000 0.00000000\n",
       "6 0.00000000 0.00000000 0.00000000 0.00000000 0.00000000 0.028298028 0.00000000\n",
       "  assist     back        battl      ⋯ rank shall woman tom somebodi declar jim\n",
       "1 0.01579271 0.009272161 0.01959328 ⋯ 0    0     0     0   0        0      0  \n",
       "2 0.00000000 0.000000000 0.00000000 ⋯ 0    0     0     0   0        0      0  \n",
       "3 0.00000000 0.000000000 0.00000000 ⋯ 0    0     0     0   0        0      0  \n",
       "4 0.00000000 0.000000000 0.00000000 ⋯ 0    0     0     0   0        0      0  \n",
       "5 0.00000000 0.000000000 0.00000000 ⋯ 0    0     0     0   0        0      0  \n",
       "6 0.00000000 0.000000000 0.00000000 ⋯ 0    0     0     0   0        0      0  \n",
       "  spammer ground qualifi\n",
       "1 0       0      0      \n",
       "2 0       0      0      \n",
       "3 0       0      0      \n",
       "4 0       0      0      \n",
       "5 0       0      0      \n",
       "6 0       0      0      "
      ]
     },
     "metadata": {},
     "output_type": "display_data"
    },
    {
     "name": "stdout",
     "output_type": "stream",
     "text": [
      "Removendo alta esparsidade: 0.85 sec elapsed\n"
     ]
    }
   ],
   "source": [
    "tic('Removendo alta esparsidade')\n",
    "tfidf = removeSparseTerms(tfidf, 0.99)\n",
    "head(as.matrix(tfidf))\n",
    "toc()"
   ]
  },
  {
   "cell_type": "markdown",
   "metadata": {},
   "source": [
    "<h1>2. Classificação: Naive Bayes</h1>"
   ]
  },
  {
   "cell_type": "markdown",
   "metadata": {},
   "source": [
    "<h2>2.1. Dataprep</h2>\n",
    "\n",
    "Em todo processo de aprendizado de máquinas, há a necessidade de preparação dos dados para se adequar a alguma estrutura de dados exigida pela linguagem utilizada (em nosso caso o R), para se adequar a alguma particularidade da técnica e/ou para remover e corrigir alguma inconsistência ou defeito nos dados.  \n"
   ]
  },
  {
   "cell_type": "code",
   "execution_count": 7,
   "metadata": {
    "collapsed": false
   },
   "outputs": [
    {
     "data": {
      "text/html": [
       "<table>\n",
       "<thead><tr><th scope=col>X1</th><th scope=col>X2</th><th scope=col>X3</th><th scope=col>X4</th><th scope=col>X5</th><th scope=col>X6</th><th scope=col>X7</th><th scope=col>X8</th><th scope=col>X9</th><th scope=col>X10</th><th scope=col>⋯</th><th scope=col>X1885</th><th scope=col>X1886</th><th scope=col>X1887</th><th scope=col>X1888</th><th scope=col>X1889</th><th scope=col>X1890</th><th scope=col>X1891</th><th scope=col>X1892</th><th scope=col>X1893</th><th scope=col>X1894</th></tr></thead>\n",
       "<tbody>\n",
       "\t<tr><td>0.02360003 </td><td>0.01575454 </td><td>0.01502203 </td><td>0.01351869 </td><td>0.01780602 </td><td>0.006628367</td><td>0.01183063 </td><td>0.01579271 </td><td>0.009272161</td><td>0.01959328 </td><td>⋯          </td><td>0          </td><td>0          </td><td>0          </td><td>0          </td><td>0          </td><td>0          </td><td>0          </td><td>0          </td><td>0          </td><td>0          </td></tr>\n",
       "\t<tr><td>0.00000000 </td><td>0.00000000 </td><td>0.00000000 </td><td>0.00000000 </td><td>0.00000000 </td><td>0.000000000</td><td>0.00000000 </td><td>0.00000000 </td><td>0.000000000</td><td>0.00000000 </td><td>⋯          </td><td>0          </td><td>0          </td><td>0          </td><td>0          </td><td>0          </td><td>0          </td><td>0          </td><td>0          </td><td>0          </td><td>0          </td></tr>\n",
       "\t<tr><td>0.00000000 </td><td>0.00000000 </td><td>0.00000000 </td><td>0.00000000 </td><td>0.00000000 </td><td>0.011261460</td><td>0.00000000 </td><td>0.00000000 </td><td>0.000000000</td><td>0.00000000 </td><td>⋯          </td><td>0          </td><td>0          </td><td>0          </td><td>0          </td><td>0          </td><td>0          </td><td>0          </td><td>0          </td><td>0          </td><td>0          </td></tr>\n",
       "\t<tr><td>0.00000000 </td><td>0.00000000 </td><td>0.00000000 </td><td>0.00000000 </td><td>0.00000000 </td><td>0.000000000</td><td>0.00000000 </td><td>0.00000000 </td><td>0.000000000</td><td>0.00000000 </td><td>⋯          </td><td>0          </td><td>0          </td><td>0          </td><td>0          </td><td>0          </td><td>0          </td><td>0          </td><td>0          </td><td>0          </td><td>0          </td></tr>\n",
       "\t<tr><td>0.00000000 </td><td>0.00000000 </td><td>0.00000000 </td><td>0.00000000 </td><td>0.00000000 </td><td>0.000000000</td><td>0.00000000 </td><td>0.00000000 </td><td>0.000000000</td><td>0.00000000 </td><td>⋯          </td><td>0          </td><td>0          </td><td>0          </td><td>0          </td><td>0          </td><td>0          </td><td>0          </td><td>0          </td><td>0          </td><td>0          </td></tr>\n",
       "\t<tr><td>0.00000000 </td><td>0.00000000 </td><td>0.00000000 </td><td>0.00000000 </td><td>0.00000000 </td><td>0.028298028</td><td>0.00000000 </td><td>0.00000000 </td><td>0.000000000</td><td>0.00000000 </td><td>⋯          </td><td>0          </td><td>0          </td><td>0          </td><td>0          </td><td>0          </td><td>0          </td><td>0          </td><td>0          </td><td>0          </td><td>0          </td></tr>\n",
       "</tbody>\n",
       "</table>\n"
      ],
      "text/latex": [
       "\\begin{tabular}{r|llllllllllllllllllllllllllllllllllllllllllllllllllllllllllllllllllllllllllllllllllllllllllllllllllllllllllllllllllllllllllllllllllllllllllllllllllllllllllllllllllllllllllllllllllllllllllllllllllllllllllllllllllllllllllllllllllllllllllllllllllllllllllllllllllllllllllllllllllllllllllllllllllllllllllllllllllllllllllllllllllllllllllllllllllllllllllllllllllllllllllllllllllllllllllllllllllllllllllllllllllllllllllllllllllllllllllllllllllllllllllllllllllllllllllllllllllllllllllllllllllllllllllllllllllllllllllllllllllllllllllllllllllllllllllllllllllllllllllllllllllllllllllllllllllllllllllllllllllllllllllllllllllllllllllllllllllllllllllllllllllllllllllllllllllllllllllllllllllllllllllllllllllllllllllllllllllllllllllllllllllllllllllllllllllllllllllllllllllllllllllllllllllllllllllllllllllllllllllllllllllllllllllllllllllllllllllllllllllllllllllllllllllllllllllllllllllllllllllllllllllllllllllllllllllllllllllllllllllllllllllllllllllllllllllllllllllllllllllllllllllllllllllllllllllllllllllllllllllllllllllllllllllllllllllllllllllllllllllllllllllllllllllllllllllllllllllllllllllllllllllllllllllllllllllllllllllllllllllllllllllllllllllllllllllllllllllllllllllllllllllllllllllllllllllllllllllllllllllllllllllllllllllllllllllllllllllllllllllllllllllllllllllllllllllllllllllllllllllllllllllllllllllllllllllllllllllllllllllllllllllllllllllllllllllllllllllllllllllllllllllllllllllllllllllllllllllllllllllllllllllllllllllllllllllllllllllllllllllllllllllllllllllllllllllllllllllllllllllllllllllllllllllllllllllllllllllllllllllllllllllllllllllllllllllllllllllllllllllllllllllllllllllllllllllllllllllllllllllllllllllllllllllllllllllllllllllllllllllllllllllllllllllllllllllllllllllllllllllllllllllllllllllllllllllllllllllllllllllllllllllllllllllllllllllllllllllllllllllllllllllllllllllllllllllllllllllllllllllllllllllllllllllllllllllllllllllllllllllllllllllllllllllllllllllllllllllllllllllllllllllllllllllllll}\n",
       " X1 & X2 & X3 & X4 & X5 & X6 & X7 & X8 & X9 & X10 & ⋯ & X1885 & X1886 & X1887 & X1888 & X1889 & X1890 & X1891 & X1892 & X1893 & X1894\\\\\n",
       "\\hline\n",
       "\t 0.02360003  & 0.01575454  & 0.01502203  & 0.01351869  & 0.01780602  & 0.006628367 & 0.01183063  & 0.01579271  & 0.009272161 & 0.01959328  & ⋯           & 0           & 0           & 0           & 0           & 0           & 0           & 0           & 0           & 0           & 0          \\\\\n",
       "\t 0.00000000  & 0.00000000  & 0.00000000  & 0.00000000  & 0.00000000  & 0.000000000 & 0.00000000  & 0.00000000  & 0.000000000 & 0.00000000  & ⋯           & 0           & 0           & 0           & 0           & 0           & 0           & 0           & 0           & 0           & 0          \\\\\n",
       "\t 0.00000000  & 0.00000000  & 0.00000000  & 0.00000000  & 0.00000000  & 0.011261460 & 0.00000000  & 0.00000000  & 0.000000000 & 0.00000000  & ⋯           & 0           & 0           & 0           & 0           & 0           & 0           & 0           & 0           & 0           & 0          \\\\\n",
       "\t 0.00000000  & 0.00000000  & 0.00000000  & 0.00000000  & 0.00000000  & 0.000000000 & 0.00000000  & 0.00000000  & 0.000000000 & 0.00000000  & ⋯           & 0           & 0           & 0           & 0           & 0           & 0           & 0           & 0           & 0           & 0          \\\\\n",
       "\t 0.00000000  & 0.00000000  & 0.00000000  & 0.00000000  & 0.00000000  & 0.000000000 & 0.00000000  & 0.00000000  & 0.000000000 & 0.00000000  & ⋯           & 0           & 0           & 0           & 0           & 0           & 0           & 0           & 0           & 0           & 0          \\\\\n",
       "\t 0.00000000  & 0.00000000  & 0.00000000  & 0.00000000  & 0.00000000  & 0.028298028 & 0.00000000  & 0.00000000  & 0.000000000 & 0.00000000  & ⋯           & 0           & 0           & 0           & 0           & 0           & 0           & 0           & 0           & 0           & 0          \\\\\n",
       "\\end{tabular}\n"
      ],
      "text/markdown": [
       "\n",
       "X1 | X2 | X3 | X4 | X5 | X6 | X7 | X8 | X9 | X10 | ⋯ | X1885 | X1886 | X1887 | X1888 | X1889 | X1890 | X1891 | X1892 | X1893 | X1894 | \n",
       "|---|---|---|---|---|---|\n",
       "| 0.02360003  | 0.01575454  | 0.01502203  | 0.01351869  | 0.01780602  | 0.006628367 | 0.01183063  | 0.01579271  | 0.009272161 | 0.01959328  | ⋯           | 0           | 0           | 0           | 0           | 0           | 0           | 0           | 0           | 0           | 0           | \n",
       "| 0.00000000  | 0.00000000  | 0.00000000  | 0.00000000  | 0.00000000  | 0.000000000 | 0.00000000  | 0.00000000  | 0.000000000 | 0.00000000  | ⋯           | 0           | 0           | 0           | 0           | 0           | 0           | 0           | 0           | 0           | 0           | \n",
       "| 0.00000000  | 0.00000000  | 0.00000000  | 0.00000000  | 0.00000000  | 0.011261460 | 0.00000000  | 0.00000000  | 0.000000000 | 0.00000000  | ⋯           | 0           | 0           | 0           | 0           | 0           | 0           | 0           | 0           | 0           | 0           | \n",
       "| 0.00000000  | 0.00000000  | 0.00000000  | 0.00000000  | 0.00000000  | 0.000000000 | 0.00000000  | 0.00000000  | 0.000000000 | 0.00000000  | ⋯           | 0           | 0           | 0           | 0           | 0           | 0           | 0           | 0           | 0           | 0           | \n",
       "| 0.00000000  | 0.00000000  | 0.00000000  | 0.00000000  | 0.00000000  | 0.000000000 | 0.00000000  | 0.00000000  | 0.000000000 | 0.00000000  | ⋯           | 0           | 0           | 0           | 0           | 0           | 0           | 0           | 0           | 0           | 0           | \n",
       "| 0.00000000  | 0.00000000  | 0.00000000  | 0.00000000  | 0.00000000  | 0.028298028 | 0.00000000  | 0.00000000  | 0.000000000 | 0.00000000  | ⋯           | 0           | 0           | 0           | 0           | 0           | 0           | 0           | 0           | 0           | 0           | \n",
       "\n",
       "\n"
      ],
      "text/plain": [
       "  X1         X2         X3         X4         X5         X6          X7        \n",
       "1 0.02360003 0.01575454 0.01502203 0.01351869 0.01780602 0.006628367 0.01183063\n",
       "2 0.00000000 0.00000000 0.00000000 0.00000000 0.00000000 0.000000000 0.00000000\n",
       "3 0.00000000 0.00000000 0.00000000 0.00000000 0.00000000 0.011261460 0.00000000\n",
       "4 0.00000000 0.00000000 0.00000000 0.00000000 0.00000000 0.000000000 0.00000000\n",
       "5 0.00000000 0.00000000 0.00000000 0.00000000 0.00000000 0.000000000 0.00000000\n",
       "6 0.00000000 0.00000000 0.00000000 0.00000000 0.00000000 0.028298028 0.00000000\n",
       "  X8         X9          X10        ⋯ X1885 X1886 X1887 X1888 X1889 X1890 X1891\n",
       "1 0.01579271 0.009272161 0.01959328 ⋯ 0     0     0     0     0     0     0    \n",
       "2 0.00000000 0.000000000 0.00000000 ⋯ 0     0     0     0     0     0     0    \n",
       "3 0.00000000 0.000000000 0.00000000 ⋯ 0     0     0     0     0     0     0    \n",
       "4 0.00000000 0.000000000 0.00000000 ⋯ 0     0     0     0     0     0     0    \n",
       "5 0.00000000 0.000000000 0.00000000 ⋯ 0     0     0     0     0     0     0    \n",
       "6 0.00000000 0.000000000 0.00000000 ⋯ 0     0     0     0     0     0     0    \n",
       "  X1892 X1893 X1894\n",
       "1 0     0     0    \n",
       "2 0     0     0    \n",
       "3 0     0     0    \n",
       "4 0     0     0    \n",
       "5 0     0     0    \n",
       "6 0     0     0    "
      ]
     },
     "metadata": {},
     "output_type": "display_data"
    }
   ],
   "source": [
    "data = as.data.frame(as.matrix(tfidf), optional = T)\n",
    "colnames(data) = unlist(lapply(1:ncol(data), function(i){paste('X',i,sep='')}))\n",
    "head(data)"
   ]
  },
  {
   "cell_type": "markdown",
   "metadata": {},
   "source": [
    "Leitura do arquivo que indica para cada e-mail se:\n",
    "* <b>0:</b> SPAM\n",
    "* <b>1:</b> Não SPAM"
   ]
  },
  {
   "cell_type": "code",
   "execution_count": 8,
   "metadata": {
    "collapsed": false
   },
   "outputs": [
    {
     "data": {
      "text/html": [
       "<table>\n",
       "<thead><tr><th scope=col>V1</th><th scope=col>V2</th></tr></thead>\n",
       "<tbody>\n",
       "\t<tr><td>0              </td><td>TRAIN_00000.eml</td></tr>\n",
       "\t<tr><td>0              </td><td>TRAIN_00001.eml</td></tr>\n",
       "\t<tr><td>1              </td><td>TRAIN_00002.eml</td></tr>\n",
       "\t<tr><td>0              </td><td>TRAIN_00003.eml</td></tr>\n",
       "\t<tr><td>0              </td><td>TRAIN_00004.eml</td></tr>\n",
       "\t<tr><td>1              </td><td>TRAIN_00005.eml</td></tr>\n",
       "</tbody>\n",
       "</table>\n"
      ],
      "text/latex": [
       "\\begin{tabular}{r|ll}\n",
       " V1 & V2\\\\\n",
       "\\hline\n",
       "\t 0                 & TRAIN\\_00000.eml\\\\\n",
       "\t 0                 & TRAIN\\_00001.eml\\\\\n",
       "\t 1                 & TRAIN\\_00002.eml\\\\\n",
       "\t 0                 & TRAIN\\_00003.eml\\\\\n",
       "\t 0                 & TRAIN\\_00004.eml\\\\\n",
       "\t 1                 & TRAIN\\_00005.eml\\\\\n",
       "\\end{tabular}\n"
      ],
      "text/markdown": [
       "\n",
       "V1 | V2 | \n",
       "|---|---|---|---|---|---|\n",
       "| 0               | TRAIN_00000.eml | \n",
       "| 0               | TRAIN_00001.eml | \n",
       "| 1               | TRAIN_00002.eml | \n",
       "| 0               | TRAIN_00003.eml | \n",
       "| 0               | TRAIN_00004.eml | \n",
       "| 1               | TRAIN_00005.eml | \n",
       "\n",
       "\n"
      ],
      "text/plain": [
       "  V1 V2             \n",
       "1 0  TRAIN_00000.eml\n",
       "2 0  TRAIN_00001.eml\n",
       "3 1  TRAIN_00002.eml\n",
       "4 0  TRAIN_00003.eml\n",
       "5 0  TRAIN_00004.eml\n",
       "6 1  TRAIN_00005.eml"
      ]
     },
     "metadata": {},
     "output_type": "display_data"
    }
   ],
   "source": [
    "tar.f  = read.table(target.file, header = F, stringsAsFactors = FALSE)\n",
    "head(tar.f)"
   ]
  },
  {
   "cell_type": "markdown",
   "metadata": {},
   "source": [
    "<p style='color: red'> ATENÇÃO: </p>Especificamente no R, nos problemas de classificação, a target deve ser armazenada como \"Factor\"."
   ]
  },
  {
   "cell_type": "code",
   "execution_count": 9,
   "metadata": {
    "collapsed": true
   },
   "outputs": [],
   "source": [
    "target = as.factor(unlist(tar.f[1]))"
   ]
  },
  {
   "cell_type": "markdown",
   "metadata": {},
   "source": [
    "<h2>2.2. Configuração do processo de modelagem</h2>\n",
    "\n",
    "Para o correto funcionamento do pacote MLR 4 conjuntos de configurações precisam ser criados, são eles:\n",
    "\n",
    "* <b>learner:</b> Define o tipo de problema a ser abordado (classificação, regressão, agrupamento, ...) e suas caracteristicas\n",
    "* <b>task:</b> Define a caracteristicas dos dados e da tarefa que será executada.\n",
    "* <b>resample:</b> Define qual metodologia de valiadação deve ser utilizada bem como suas caracteristicas (em nossa caso utilizaremos a validação cruzada K-Fold com 5 pastas)\n",
    "* <b>measures:</b> Define as métricas de avaliação que no processo de validação cruzada\n"
   ]
  },
  {
   "cell_type": "markdown",
   "metadata": {},
   "source": [
    "Function\n",
    "```R\n",
    "makeLearner(cl, id = cl, predict.type = \"response\", predict.threshold = NULL, \n",
    "            fix.factors.prediction = FALSE, ..., par.vals = list(), config = list())\n",
    "```\n",
    "Param.:\n",
    "\n",
    "* cl: [character(1)] Class of learner. By convention, all classification learners start with “classif.”. A list of all integrated learners is available on the learners help page < https://mlr-org.github.io/mlr-tutorial/release/html/integrated_learners/ >.\n",
    "* predict: [character(1)] “response” (= labels) or “prob” (= probabilities and labels by selecting the ones with maximal probability). Default is “response”.\n",
    "* par.vals: [list] Optional list of named (hyper)parameters. The arguments in ... take precedence over values in this list. We strongly encourage you to use one or the other to pass (hyper)parameters to the learner but not both.\n",
    "\n",
    "Doc.: https://www.rdocumentation.org/packages/mlr/versions/2.10/topics/makeLearner"
   ]
  },
  {
   "cell_type": "code",
   "execution_count": 10,
   "metadata": {
    "collapsed": false
   },
   "outputs": [],
   "source": [
    "learner = makeLearner(cl = classificador\n",
    "                      , predict.type = \"prob\"\n",
    "                      , par.vals = list()\n",
    ")"
   ]
  },
  {
   "cell_type": "markdown",
   "metadata": {},
   "source": [
    "Function\n",
    "```R\n",
    "makeClassifTask(id = deparse(substitute(data)), data, target, weights = NULL, blocking = NULL, \n",
    "                positive = NA_character_, fixup.data = \"warn\", check.data = TRUE)\n",
    "```\n",
    "Param.:\n",
    "\n",
    "* data: [data.frame] A data frame containing the features and target variable(s).\n",
    "* target: [character(1)] Name of the target variable.\n",
    "* positive: [character(1)] Positive class for binary classification (otherwise ignored and set to NA). Default is the first factor level of the target attribute.\n",
    "* fixup.data: [character(1)] Should some basic cleaning up of data be performed? Currently this means removing empty factor levels for the columns. Possible coices are: “no” = Don't do it. “warn” = Do it but warn about it. “quiet” = Do it but keep silent. Default is “warn”.\n",
    "\n",
    "Doc.: https://www.rdocumentation.org/packages/mlr/versions/2.10/topics/makeLearner"
   ]
  },
  {
   "cell_type": "code",
   "execution_count": 11,
   "metadata": {
    "collapsed": false
   },
   "outputs": [],
   "source": [
    "task = makeClassifTask( data = cbind(data, target)\n",
    "                        , target = 'target'\n",
    "                        , positive = '0'\n",
    "                        , fixup.data = 'no'\n",
    ")"
   ]
  },
  {
   "cell_type": "markdown",
   "metadata": {},
   "source": [
    "Function:\n",
    "```R\n",
    "makeResampleDesc(method, predict = \"test\", ..., stratify = FALSE, stratify.cols = NULL)\n",
    "```\n",
    "Param.:\n",
    "\n",
    "* method: [character(1)] “CV” for cross-validation, “LOO” for leave-one-out, “RepCV” for repeated cross-validation, “Bootstrap” for out-of-bag bootstrap, “Subsample” for subsampling, “Holdout” for holdout.\n",
    "* predict: What to predict during resampling: “train”, “test” or “both” sets. Default is “test”.\n",
    "* ... : [any] Further parameters for strategies.\n",
    "    * iters [integer(1)] Number of iterations, for “CV”, “Subsample” and “Boostrap”.\n",
    "    * split [numeric(1)] Proportion of training cases for “Holdout” and “Subsample” between 0 and 1. Default is 2/3.\n",
    "    * reps [integer(1)] Repeats for “RepCV”. Here iters = folds * reps. Default is 10.\n",
    "    * folds [integer(1)] Folds in the repeated CV for RepCV. Here iters = folds * reps. Default is 10.\n",
    "\n",
    "Doc.: https://www.rdocumentation.org/packages/mlr/versions/2.10/topics/makeResampleDesc"
   ]
  },
  {
   "cell_type": "code",
   "execution_count": 12,
   "metadata": {
    "collapsed": false
   },
   "outputs": [],
   "source": [
    "resample = makeResampleDesc( method = \"CV\"\n",
    "                            , iters = 5\n",
    "                            , predict = 'both'\n",
    "                            , stratify = FALSE\n",
    ")"
   ]
  },
  {
   "cell_type": "markdown",
   "metadata": {},
   "source": [
    "List of performance measures:\n",
    "\n",
    "Doc.: http://mlr-org.github.io/mlr-tutorial/release/html/measures/"
   ]
  },
  {
   "cell_type": "code",
   "execution_count": 13,
   "metadata": {
    "collapsed": false
   },
   "outputs": [],
   "source": [
    "measures = list(acc  #acuracia\n",
    "               ,f1   #f1\n",
    "               ,ppv  #precision\n",
    "               ,tpr  #recall\n",
    "               ,auc  #AUC\n",
    "               )"
   ]
  },
  {
   "cell_type": "markdown",
   "metadata": {},
   "source": [
    "<h2>2.3. Execução do pipeline de modelagem</h2>\n",
    "\n",
    "Todo o pipeline de modelagem sobre os dados de e-mail pode demorar um pouco devido a grande quantidade de documentos bem como a alta dimensionalidade dos dados. Por este motivo, para tornar todo processo mais rápido utilizamos todos os núcleos de processamento da máquina. A este tipo de processamento da-se o nome de \"computação paralela\"\n"
   ]
  },
  {
   "cell_type": "code",
   "execution_count": 14,
   "metadata": {
    "collapsed": true
   },
   "outputs": [],
   "source": [
    "cpus = detectCores(all.tests = FALSE, logical = TRUE) # detecta o número de CPU`s disponíveis para processamento\n",
    "parallelMap::parallelStartMulticore(cpus, show.info=FALSE) # inicia o pool de CPU`s"
   ]
  },
  {
   "cell_type": "markdown",
   "metadata": {},
   "source": [
    "Function:\n",
    "```R\n",
    "resample(learner, task, resampling, measures, weights = NULL, models = FALSE, extract, \n",
    "         keep.pred = TRUE, ..., show.info = getMlrOption(\"show.info\"))\n",
    "```\n",
    "Param.:\n",
    "\n",
    "* learner: [Learner] The learner.\n",
    "* task: [Task] The task.\n",
    "* resampling: [ResampleInstance] Resampling strategy.\n",
    "* measures: [Measure | list of Measure] Performance measure(s) to evaluate. Default is mean misclassification error (mmce)\n",
    "* weights: [numeric] Optional, non-negative case weight vector to be used during fitting. If given, must be of same length as observations in task and in corresponding order. Overwrites weights specified in the task. By default NULL which means no weights are used unless specified in the task.\n",
    "* models: [logical(1)] Should all fitted models be returned? Default is FALSE.\n",
    "* keep.pred: [logical(1)] Keep the prediction data in the pred slot of the result object. If you do many experiments (on larger data sets) these objects might unnecessarily increase object size / mem usage, if you do not really need them. In this case you can set this argument to FALSE. Default is TRUE.\n",
    "* show.info: [logical(1)] Print verbose output on console? Default is set via configureMlr.\n",
    "\n",
    "Doc.: https://www.rdocumentation.org/packages/mlr/versions/2.10/topics/resample"
   ]
  },
  {
   "cell_type": "code",
   "execution_count": 15,
   "metadata": {
    "collapsed": false
   },
   "outputs": [
    {
     "name": "stdout",
     "output_type": "stream",
     "text": [
      "Validacao Cruzada (5-folds) Naive Bayes: 387.829 sec elapsed\n"
     ]
    }
   ],
   "source": [
    "tic('Validacao Cruzada (5-folds) Naive Bayes')\n",
    "r = resample(learner = learner\n",
    "             ,task = task\n",
    "             ,resampling = resample\n",
    "             ,measures = measures\n",
    "             #---------------------#\n",
    "             ,models = TRUE\n",
    "             ,keep.pred = FALSE\n",
    "             ,show.info = FALSE)\n",
    "toc()"
   ]
  },
  {
   "cell_type": "code",
   "execution_count": 16,
   "metadata": {
    "collapsed": true
   },
   "outputs": [],
   "source": [
    "parallelMap::parallelStop() # desliga o pool de CPU`s"
   ]
  },
  {
   "cell_type": "markdown",
   "metadata": {},
   "source": [
    "<h2>2.3. Result Analysis</h2>\n",
    "\n",
    "Após execução do processo de validação cruzada, é necessário saber a estimativa de acerto do modelo nas bases de treinamento e teste. Esta etapa é importante para garantir que seu modelo não está super-ajustado aos dados e tem um bom poder de generalização."
   ]
  },
  {
   "cell_type": "markdown",
   "metadata": {},
   "source": [
    "Medidas de treinamento nas 5 pastas do K-Fold"
   ]
  },
  {
   "cell_type": "code",
   "execution_count": 17,
   "metadata": {
    "collapsed": false
   },
   "outputs": [
    {
     "data": {
      "text/html": [
       "<table>\n",
       "<thead><tr><th scope=col>iter</th><th scope=col>acc</th><th scope=col>f1</th><th scope=col>ppv</th><th scope=col>tpr</th><th scope=col>auc</th></tr></thead>\n",
       "<tbody>\n",
       "\t<tr><td>1        </td><td>0.8414211</td><td>0.7932203</td><td>0.6793548</td><td>0.9529412</td><td>0.8862858</td></tr>\n",
       "\t<tr><td>2        </td><td>0.8387749</td><td>0.7903832</td><td>0.6769627</td><td>0.9494585</td><td>0.8846466</td></tr>\n",
       "\t<tr><td>3        </td><td>0.8538417</td><td>0.8078967</td><td>0.7041694</td><td>0.9474622</td><td>0.8926285</td></tr>\n",
       "\t<tr><td>4        </td><td>0.8414211</td><td>0.7889273</td><td>0.6736704</td><td>0.9517625</td><td>0.8851667</td></tr>\n",
       "\t<tr><td>5        </td><td>0.8390639</td><td>0.7886148</td><td>0.6759922</td><td>0.9462659</td><td>0.8845934</td></tr>\n",
       "</tbody>\n",
       "</table>\n"
      ],
      "text/latex": [
       "\\begin{tabular}{r|llllll}\n",
       " iter & acc & f1 & ppv & tpr & auc\\\\\n",
       "\\hline\n",
       "\t 1         & 0.8414211 & 0.7932203 & 0.6793548 & 0.9529412 & 0.8862858\\\\\n",
       "\t 2         & 0.8387749 & 0.7903832 & 0.6769627 & 0.9494585 & 0.8846466\\\\\n",
       "\t 3         & 0.8538417 & 0.8078967 & 0.7041694 & 0.9474622 & 0.8926285\\\\\n",
       "\t 4         & 0.8414211 & 0.7889273 & 0.6736704 & 0.9517625 & 0.8851667\\\\\n",
       "\t 5         & 0.8390639 & 0.7886148 & 0.6759922 & 0.9462659 & 0.8845934\\\\\n",
       "\\end{tabular}\n"
      ],
      "text/markdown": [
       "\n",
       "iter | acc | f1 | ppv | tpr | auc | \n",
       "|---|---|---|---|---|\n",
       "| 1         | 0.8414211 | 0.7932203 | 0.6793548 | 0.9529412 | 0.8862858 | \n",
       "| 2         | 0.8387749 | 0.7903832 | 0.6769627 | 0.9494585 | 0.8846466 | \n",
       "| 3         | 0.8538417 | 0.8078967 | 0.7041694 | 0.9474622 | 0.8926285 | \n",
       "| 4         | 0.8414211 | 0.7889273 | 0.6736704 | 0.9517625 | 0.8851667 | \n",
       "| 5         | 0.8390639 | 0.7886148 | 0.6759922 | 0.9462659 | 0.8845934 | \n",
       "\n",
       "\n"
      ],
      "text/plain": [
       "  iter acc       f1        ppv       tpr       auc      \n",
       "1 1    0.8414211 0.7932203 0.6793548 0.9529412 0.8862858\n",
       "2 2    0.8387749 0.7903832 0.6769627 0.9494585 0.8846466\n",
       "3 3    0.8538417 0.8078967 0.7041694 0.9474622 0.8926285\n",
       "4 4    0.8414211 0.7889273 0.6736704 0.9517625 0.8851667\n",
       "5 5    0.8390639 0.7886148 0.6759922 0.9462659 0.8845934"
      ]
     },
     "metadata": {},
     "output_type": "display_data"
    }
   ],
   "source": [
    "r$measures.train"
   ]
  },
  {
   "cell_type": "markdown",
   "metadata": {},
   "source": [
    "Média de cada medida no processo de treino da validação cruzada"
   ]
  },
  {
   "cell_type": "code",
   "execution_count": 18,
   "metadata": {
    "collapsed": false
   },
   "outputs": [
    {
     "data": {
      "text/html": [
       "<dl class=dl-horizontal>\n",
       "\t<dt>acc</dt>\n",
       "\t\t<dd>0.842904554521948</dd>\n",
       "\t<dt>f1</dt>\n",
       "\t\t<dd>0.793808476186892</dd>\n",
       "\t<dt>ppv</dt>\n",
       "\t\t<dd>0.682029903974196</dd>\n",
       "\t<dt>tpr</dt>\n",
       "\t\t<dd>0.949578055285506</dd>\n",
       "\t<dt>auc</dt>\n",
       "\t\t<dd>0.886664198239609</dd>\n",
       "</dl>\n"
      ],
      "text/latex": [
       "\\begin{description*}\n",
       "\\item[acc] 0.842904554521948\n",
       "\\item[f1] 0.793808476186892\n",
       "\\item[ppv] 0.682029903974196\n",
       "\\item[tpr] 0.949578055285506\n",
       "\\item[auc] 0.886664198239609\n",
       "\\end{description*}\n"
      ],
      "text/markdown": [
       "acc\n",
       ":   0.842904554521948f1\n",
       ":   0.793808476186892ppv\n",
       ":   0.682029903974196tpr\n",
       ":   0.949578055285506auc\n",
       ":   0.886664198239609\n",
       "\n"
      ],
      "text/plain": [
       "      acc        f1       ppv       tpr       auc \n",
       "0.8429046 0.7938085 0.6820299 0.9495781 0.8866642 "
      ]
     },
     "metadata": {},
     "output_type": "display_data"
    }
   ],
   "source": [
    "apply(r$measures.train,2,mean)[2:6]"
   ]
  },
  {
   "cell_type": "markdown",
   "metadata": {},
   "source": [
    "Medidas de teste nas 5 pastas do K-Fold"
   ]
  },
  {
   "cell_type": "code",
   "execution_count": 19,
   "metadata": {
    "collapsed": false
   },
   "outputs": [
    {
     "data": {
      "text/html": [
       "<table>\n",
       "<thead><tr><th scope=col>iter</th><th scope=col>acc</th><th scope=col>f1</th><th scope=col>ppv</th><th scope=col>tpr</th><th scope=col>auc</th></tr></thead>\n",
       "<tbody>\n",
       "\t<tr><td>1        </td><td>0.8265896</td><td>0.7685185</td><td>0.6640000</td><td>0.9120879</td><td>0.8716649</td></tr>\n",
       "\t<tr><td>2        </td><td>0.8556582</td><td>0.8012719</td><td>0.7019499</td><td>0.9333333</td><td>0.8937919</td></tr>\n",
       "\t<tr><td>3        </td><td>0.8219653</td><td>0.7524116</td><td>0.6376022</td><td>0.9176471</td><td>0.8709515</td></tr>\n",
       "\t<tr><td>4        </td><td>0.8589595</td><td>0.8242075</td><td>0.7258883</td><td>0.9533333</td><td>0.8915310</td></tr>\n",
       "\t<tr><td>5        </td><td>0.8221709</td><td>0.7735294</td><td>0.6575000</td><td>0.9392857</td><td>0.8679608</td></tr>\n",
       "</tbody>\n",
       "</table>\n"
      ],
      "text/latex": [
       "\\begin{tabular}{r|llllll}\n",
       " iter & acc & f1 & ppv & tpr & auc\\\\\n",
       "\\hline\n",
       "\t 1         & 0.8265896 & 0.7685185 & 0.6640000 & 0.9120879 & 0.8716649\\\\\n",
       "\t 2         & 0.8556582 & 0.8012719 & 0.7019499 & 0.9333333 & 0.8937919\\\\\n",
       "\t 3         & 0.8219653 & 0.7524116 & 0.6376022 & 0.9176471 & 0.8709515\\\\\n",
       "\t 4         & 0.8589595 & 0.8242075 & 0.7258883 & 0.9533333 & 0.8915310\\\\\n",
       "\t 5         & 0.8221709 & 0.7735294 & 0.6575000 & 0.9392857 & 0.8679608\\\\\n",
       "\\end{tabular}\n"
      ],
      "text/markdown": [
       "\n",
       "iter | acc | f1 | ppv | tpr | auc | \n",
       "|---|---|---|---|---|\n",
       "| 1         | 0.8265896 | 0.7685185 | 0.6640000 | 0.9120879 | 0.8716649 | \n",
       "| 2         | 0.8556582 | 0.8012719 | 0.7019499 | 0.9333333 | 0.8937919 | \n",
       "| 3         | 0.8219653 | 0.7524116 | 0.6376022 | 0.9176471 | 0.8709515 | \n",
       "| 4         | 0.8589595 | 0.8242075 | 0.7258883 | 0.9533333 | 0.8915310 | \n",
       "| 5         | 0.8221709 | 0.7735294 | 0.6575000 | 0.9392857 | 0.8679608 | \n",
       "\n",
       "\n"
      ],
      "text/plain": [
       "  iter acc       f1        ppv       tpr       auc      \n",
       "1 1    0.8265896 0.7685185 0.6640000 0.9120879 0.8716649\n",
       "2 2    0.8556582 0.8012719 0.7019499 0.9333333 0.8937919\n",
       "3 3    0.8219653 0.7524116 0.6376022 0.9176471 0.8709515\n",
       "4 4    0.8589595 0.8242075 0.7258883 0.9533333 0.8915310\n",
       "5 5    0.8221709 0.7735294 0.6575000 0.9392857 0.8679608"
      ]
     },
     "metadata": {},
     "output_type": "display_data"
    }
   ],
   "source": [
    "r$measures.test"
   ]
  },
  {
   "cell_type": "markdown",
   "metadata": {},
   "source": [
    "Média de cada medida no processo de teste da validação cruzada"
   ]
  },
  {
   "cell_type": "code",
   "execution_count": 20,
   "metadata": {
    "collapsed": false
   },
   "outputs": [
    {
     "data": {
      "text/html": [
       "<dl class=dl-horizontal>\n",
       "\t<dt>acc</dt>\n",
       "\t\t<dd>0.837068710034842</dd>\n",
       "\t<dt>f1</dt>\n",
       "\t\t<dd>0.783987771747341</dd>\n",
       "\t<dt>ppv</dt>\n",
       "\t\t<dd>0.677388073086769</dd>\n",
       "\t<dt>tpr</dt>\n",
       "\t\t<dd>0.931137470372765</dd>\n",
       "\t<dt>auc</dt>\n",
       "\t\t<dd>0.879180013466093</dd>\n",
       "</dl>\n"
      ],
      "text/latex": [
       "\\begin{description*}\n",
       "\\item[acc] 0.837068710034842\n",
       "\\item[f1] 0.783987771747341\n",
       "\\item[ppv] 0.677388073086769\n",
       "\\item[tpr] 0.931137470372765\n",
       "\\item[auc] 0.879180013466093\n",
       "\\end{description*}\n"
      ],
      "text/markdown": [
       "acc\n",
       ":   0.837068710034842f1\n",
       ":   0.783987771747341ppv\n",
       ":   0.677388073086769tpr\n",
       ":   0.931137470372765auc\n",
       ":   0.879180013466093\n",
       "\n"
      ],
      "text/plain": [
       "      acc        f1       ppv       tpr       auc \n",
       "0.8370687 0.7839878 0.6773881 0.9311375 0.8791800 "
      ]
     },
     "metadata": {},
     "output_type": "display_data"
    }
   ],
   "source": [
    "apply(r$measures.test,2,mean)[2:6]"
   ]
  },
  {
   "cell_type": "markdown",
   "metadata": {},
   "source": [
    "<h1>3. Novos Emails</h1>"
   ]
  },
  {
   "cell_type": "markdown",
   "metadata": {},
   "source": [
    "Agora que temos o modelo treinado, uma grande dúvida que surge é: Como detectar SPAM em novos emails que estão chegando?\n",
    "\n",
    "Para isso é necessário percorrer todo o pipeline feito até aqui, ou seja:\n",
    "<ol>\n",
    "  <li><b>Text Mining:</b> Os novos e-mail devem passar por toda etapa de pré-processamento dos texto, remoção de stopwords, números etc. Ainda, é necessário garantir que esta nova matriz com o corpus tenhas as mesmas colunas da matriz utilizada no processo de treinamento do modelo</li>\n",
    "  <li><b>Escoragem com o modelo:</b> Após a execução do processo de validação cruzada K-Fold com 5 pastas chegamos com 5 modelos (um para cada iteração), qual modelo adotar? Algumas abordagens refazem o treinamento com todos os dados disponíveis e outras utilizam o modelo que maximiza alguma das métricas utilizadas na avaliação.</li>\n",
    "</ol>"
   ]
  },
  {
   "cell_type": "markdown",
   "metadata": {},
   "source": [
    "Vamos utilizar a segunda abordagem e buscar pelo modelo que trouxe melhor acurácia, i.e., melhor taxa de acerto."
   ]
  },
  {
   "cell_type": "code",
   "execution_count": 21,
   "metadata": {
    "collapsed": false
   },
   "outputs": [
    {
     "data": {
      "text/plain": [
       "Model for learner.id=classif.naiveBayes; learner.class=classif.naiveBayes\n",
       "Trained on: task.id = cbind(data, target); obs = 3462; features = 1894\n",
       "Hyperparameters: "
      ]
     },
     "metadata": {},
     "output_type": "display_data"
    }
   ],
   "source": [
    "best.model = r$models[[which.max(r$measures.test$acc)]]\n",
    "best.model"
   ]
  },
  {
   "cell_type": "markdown",
   "metadata": {},
   "source": [
    "Apenas para facilitar e evitar todo o reprocessamento, iremos utilizar o mesmo corpus anterior como se fossem e-mails novos. Cabe ressaltar que em aplicações reais este corpus seria diferente e todo reprocessamento seria necessário"
   ]
  },
  {
   "cell_type": "code",
   "execution_count": 22,
   "metadata": {
    "collapsed": true
   },
   "outputs": [],
   "source": [
    "novos.emails.corpus = corpus\n",
    "novos.emails.tfidf  = DocumentTermMatrix(novos.emails.corpus, control = list(weighting = weightTfIdf))\n",
    "novos.emails.tfidf  = removeSparseTerms(novos.emails.tfidf, 0.99)\n",
    "novos.emails.data   = as.data.frame(as.matrix(novos.emails.tfidf), optional = T)\n",
    "colnames(novos.emails.data) = unlist(lapply(1:ncol(novos.emails.data), function(i){paste('X',i,sep='')}))"
   ]
  },
  {
   "cell_type": "markdown",
   "metadata": {},
   "source": [
    "Com os novos e-mails já processados e dispostos na matriz tf-idf, e com o modelo selecionado, é necessário aplicar somente a predição para os novos dados. Para isso o utiliza-se a função predict que recebe o modelo e o novos dados retornan o valor predito."
   ]
  },
  {
   "cell_type": "code",
   "execution_count": 23,
   "metadata": {
    "collapsed": false
   },
   "outputs": [
    {
     "name": "stdout",
     "output_type": "stream",
     "text": [
      "predicao de 4327 novos emails: 120.256 sec elapsed\n"
     ]
    }
   ],
   "source": [
    "tic('predicao de 4327 novos emails')\n",
    "pred = predict(best.model, newdata = novos.emails.data)\n",
    "toc()"
   ]
  },
  {
   "cell_type": "markdown",
   "metadata": {},
   "source": [
    "<b>Resultado da predição</b>\n",
    "\n",
    "Cada linha representa um e-mail e cada coluna representa:\n",
    "\n",
    "* <b>prob.0:</b> Probabiliade do email ser SPAM\n",
    "* <b>prob.1:</b> Probabilidade do email nao ser SPAM\n",
    "* <b>response:</b> Resposta levando em consideração um corte em 50%; Observe que neste ponto ainda há espaço para estudos. Podemos, por exemplo, chegar a conclusão que somente é SPAM se a probabilidade prob.0 for maior que 60%."
   ]
  },
  {
   "cell_type": "code",
   "execution_count": 24,
   "metadata": {
    "collapsed": false
   },
   "outputs": [
    {
     "data": {
      "text/plain": [
       "Prediction: 4327 observations\n",
       "predict.type: prob\n",
       "threshold: 0=0.50,1=0.50\n",
       "time: 120.17\n",
       "  prob.0        prob.1 response\n",
       "1      1  6.968584e-42        0\n",
       "2      1 4.608600e-244        0\n",
       "3      0  1.000000e+00        1\n",
       "4      1  0.000000e+00        0\n",
       "5      1  0.000000e+00        0\n",
       "6      0  1.000000e+00        1\n",
       "... (#rows: 4327, #cols: 3)"
      ]
     },
     "metadata": {},
     "output_type": "display_data"
    }
   ],
   "source": [
    "pred"
   ]
  }
 ],
 "metadata": {
  "kernelspec": {
   "display_name": "R",
   "language": "R",
   "name": "ir"
  },
  "language_info": {
   "codemirror_mode": "r",
   "file_extension": ".r",
   "mimetype": "text/x-r-source",
   "name": "R",
   "pygments_lexer": "r",
   "version": "3.4.4"
  }
 },
 "nbformat": 4,
 "nbformat_minor": 2
}
